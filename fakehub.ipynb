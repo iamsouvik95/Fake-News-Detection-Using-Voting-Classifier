{
 "cells": [
  {
   "cell_type": "code",
   "execution_count": 2,
   "id": "4272d7da-a864-444a-88f6-0c37ee3068df",
   "metadata": {},
   "outputs": [],
   "source": [
    "import numpy as np\n",
    "import pandas as pd\n",
    "from sklearn.feature_extraction.text import CountVectorizer\n",
    "from sklearn.model_selection import train_test_split\n",
    "import nltk\n",
    "import re\n",
    "import string\n",
    "import nltk\n",
    "from nltk.corpus import stopwords\n",
    "from nltk.tokenize import word_tokenize\n",
    "from nltk.stem import WordNetLemmatizer\n",
    "from sklearn.neighbors import KNeighborsClassifier"
   ]
  },
  {
   "cell_type": "code",
   "execution_count": 8,
   "id": "31930db5-8bc8-41e9-8e39-ca60a3ba6f32",
   "metadata": {},
   "outputs": [
    {
     "name": "stdout",
     "output_type": "stream",
     "text": [
      "   Unnamed: 0                                              title  \\\n",
      "0           0   Donald Trump Sends Out Embarrassing New Year’...   \n",
      "1           1   Drunk Bragging Trump Staffer Started Russian ...   \n",
      "2           2   Sheriff David Clarke Becomes An Internet Joke...   \n",
      "3           3   Trump Is So Obsessed He Even Has Obama’s Name...   \n",
      "4           4   Pope Francis Just Called Out Donald Trump Dur...   \n",
      "\n",
      "                                                text subject  \\\n",
      "0  Donald Trump just couldn t wish all Americans ...    News   \n",
      "1  House Intelligence Committee Chairman Devin Nu...    News   \n",
      "2  On Friday, it was revealed that former Milwauk...    News   \n",
      "3  On Christmas day, Donald Trump announced that ...    News   \n",
      "4  Pope Francis used his annual Christmas Day mes...    News   \n",
      "\n",
      "                date  class  \n",
      "0  December 31, 2017      0  \n",
      "1  December 31, 2017      0  \n",
      "2  December 30, 2017      0  \n",
      "3  December 29, 2017      0  \n",
      "4  December 25, 2017      0  \n"
     ]
    }
   ],
   "source": [
    "df=pd.read_csv(r\"D:\\Project fake\\News.csv\")\n",
    "# Print the head of df\n",
    "print(df.head())"
   ]
  },
  {
   "cell_type": "code",
   "execution_count": 11,
   "id": "4cef641d-e2a8-42a8-a899-a4e06a3e4006",
   "metadata": {},
   "outputs": [
    {
     "name": "stdout",
     "output_type": "stream",
     "text": [
      "<class 'pandas.core.frame.DataFrame'>\n",
      "RangeIndex: 44919 entries, 0 to 44918\n",
      "Data columns (total 6 columns):\n",
      " #   Column      Non-Null Count  Dtype \n",
      "---  ------      --------------  ----- \n",
      " 0   Unnamed: 0  44919 non-null  int64 \n",
      " 1   title       44919 non-null  object\n",
      " 2   text        44919 non-null  object\n",
      " 3   subject     44898 non-null  object\n",
      " 4   date        44898 non-null  object\n",
      " 5   class       44919 non-null  int64 \n",
      "dtypes: int64(2), object(4)\n",
      "memory usage: 2.1+ MB\n"
     ]
    }
   ],
   "source": [
    "df.info()"
   ]
  },
  {
   "cell_type": "code",
   "execution_count": 14,
   "id": "ebf2d35f-447f-43f0-8766-06c197e5add2",
   "metadata": {},
   "outputs": [
    {
     "data": {
      "text/plain": [
       "'Donald Trump just couldn t wish all Americans a Happy New Year and leave it at that. Instead, he had to give a shout out to his enemies, haters and  the very dishonest fake news media.  The former reality show star had just one job to do and he couldn t do it. As our Country rapidly grows stronger and smarter, I want to wish all of my friends, supporters, enemies, haters, and even the very dishonest Fake News Media, a Happy and Healthy New Year,  President Angry Pants tweeted.  2018 will be a great year for America! As our Country rapidly grows stronger and smarter, I want to wish all of my friends, supporters, enemies, haters, and even the very dishonest Fake News Media, a Happy and Healthy New Year. 2018 will be a great year for America!  Donald J. Trump (@realDonaldTrump) December 31, 2017Trump s tweet went down about as welll as you d expect.What kind of president sends a New Year s greeting like this despicable, petty, infantile gibberish? Only Trump! His lack of decency won t even allow him to rise above the gutter long enough to wish the American citizens a happy new year!  Bishop Talbert Swan (@TalbertSwan) December 31, 2017no one likes you  Calvin (@calvinstowell) December 31, 2017Your impeachment would make 2018 a great year for America, but I ll also accept regaining control of Congress.  Miranda Yaver (@mirandayaver) December 31, 2017Do you hear yourself talk? When you have to include that many people that hate you you have to wonder? Why do the they all hate me?  Alan Sandoval (@AlanSandoval13) December 31, 2017Who uses the word Haters in a New Years wish??  Marlene (@marlene399) December 31, 2017You can t just say happy new year?  Koren pollitt (@Korencarpenter) December 31, 2017Here s Trump s New Year s Eve tweet from 2016.Happy New Year to all, including to my many enemies and those who have fought me and lost so badly they just don t know what to do. Love!  Donald J. Trump (@realDonaldTrump) December 31, 2016This is nothing new for Trump. He s been doing this for years.Trump has directed messages to his  enemies  and  haters  for New Year s, Easter, Thanksgiving, and the anniversary of 9/11. pic.twitter.com/4FPAe2KypA  Daniel Dale (@ddale8) December 31, 2017Trump s holiday tweets are clearly not presidential.How long did he work at Hallmark before becoming President?  Steven Goodine (@SGoodine) December 31, 2017He s always been like this . . . the only difference is that in the last few years, his filter has been breaking down.  Roy Schulze (@thbthttt) December 31, 2017Who, apart from a teenager uses the term haters?  Wendy (@WendyWhistles) December 31, 2017he s a fucking 5 year old  Who Knows (@rainyday80) December 31, 2017So, to all the people who voted for this a hole thinking he would change once he got into power, you were wrong! 70-year-old men don t change and now he s a year older.Photo by Andrew Burton/Getty Images.'"
      ]
     },
     "execution_count": 14,
     "metadata": {},
     "output_type": "execute_result"
    }
   ],
   "source": [
    "df['text'][0]"
   ]
  },
  {
   "cell_type": "code",
   "execution_count": 17,
   "id": "3e01d5cc-692e-49bb-99ae-c32eb81743a3",
   "metadata": {},
   "outputs": [
    {
     "name": "stderr",
     "output_type": "stream",
     "text": [
      "[nltk_data] Downloading package stopwords to\n",
      "[nltk_data]     C:\\Users\\User\\AppData\\Roaming\\nltk_data...\n",
      "[nltk_data]   Package stopwords is already up-to-date!\n",
      "[nltk_data] Downloading package punkt_tab to\n",
      "[nltk_data]     C:\\Users\\User\\AppData\\Roaming\\nltk_data...\n",
      "[nltk_data]   Package punkt_tab is already up-to-date!\n",
      "[nltk_data] Downloading package wordnet to\n",
      "[nltk_data]     C:\\Users\\User\\AppData\\Roaming\\nltk_data...\n",
      "[nltk_data]   Package wordnet is already up-to-date!\n"
     ]
    },
    {
     "data": {
      "text/plain": [
       "True"
      ]
     },
     "execution_count": 17,
     "metadata": {},
     "output_type": "execute_result"
    }
   ],
   "source": [
    "# Download required NLTK resources\n",
    "nltk.download('stopwords')\n",
    "nltk.download('punkt_tab')\n",
    "nltk.download('wordnet')"
   ]
  },
  {
   "cell_type": "code",
   "execution_count": 20,
   "id": "b9886c7f-5373-47aa-9e09-088306c83618",
   "metadata": {},
   "outputs": [],
   "source": [
    "stop_words = set(stopwords.words('english'))\n",
    "lemmatizer = WordNetLemmatizer()\n"
   ]
  },
  {
   "cell_type": "code",
   "execution_count": 23,
   "id": "528d7936-ed37-4a92-b481-e244e8b986da",
   "metadata": {},
   "outputs": [],
   "source": [
    "def clean_text(text):\n",
    "    \"\"\"\n",
    "    Perform the following preprocessing steps:\n",
    "    1. Convert text to lowercase 2. Remove URLs and email addresses\n",
    "    3. Remove punctuation and special characters 4. Remove numbers\n",
    "    5. Remove stopwords  6. Apply lemmatization\n",
    "    \"\"\"\n",
    "    \n",
    "    # Convert to lowercase\n",
    "    text = text.lower()\n",
    "    \n",
    "    # Remove URLs\n",
    "    text = re.sub(r'http\\S+|www\\S+|https\\S+', '', text, flags=re.MULTILINE)\n",
    "    \n",
    "    # Remove email addresses\n",
    "    text = re.sub(r'\\S+@\\S+', '', text)\n",
    "    \n",
    "    # Remove punctuation and special characters\n",
    "    text = text.translate(str.maketrans('', '', string.punctuation))\n",
    "    \n",
    "    # Remove numbers\n",
    "    text = re.sub(r'\\d+', '', text)\n",
    "    # Tokenize text\n",
    "    words = word_tokenize(text)\n",
    "    \n",
    "    # Remove stopwords and apply lemmatization\n",
    "    words = [lemmatizer.lemmatize(word) for word in words if word not in stop_words and word.isalpha()]\n",
    "\n",
    "     # Rejoin words into a single string\n",
    "    cleaned_text = \" \".join(words)\n",
    "    \n",
    "    return cleaned_text"
   ]
  },
  {
   "cell_type": "code",
   "execution_count": 26,
   "id": "d944cd62-6903-4db4-bd76-e7dc8b7458d1",
   "metadata": {},
   "outputs": [
    {
     "name": "stdout",
     "output_type": "stream",
     "text": [
      "   Unnamed: 0                                              title  \\\n",
      "0           0   Donald Trump Sends Out Embarrassing New Year’...   \n",
      "1           1   Drunk Bragging Trump Staffer Started Russian ...   \n",
      "2           2   Sheriff David Clarke Becomes An Internet Joke...   \n",
      "3           3   Trump Is So Obsessed He Even Has Obama’s Name...   \n",
      "4           4   Pope Francis Just Called Out Donald Trump Dur...   \n",
      "\n",
      "                                                text subject  \\\n",
      "0  donald trump wish american happy new year leav...    News   \n",
      "1  house intelligence committee chairman devin nu...    News   \n",
      "2  friday revealed former milwaukee sheriff david...    News   \n",
      "3  christmas day donald trump announced would bac...    News   \n",
      "4  pope francis used annual christmas day message...    News   \n",
      "\n",
      "                date  class  \n",
      "0  December 31, 2017      0  \n",
      "1  December 31, 2017      0  \n",
      "2  December 30, 2017      0  \n",
      "3  December 29, 2017      0  \n",
      "4  December 25, 2017      0  \n"
     ]
    }
   ],
   "source": [
    "df['text'] = df['text'].apply(clean_text)\n",
    "print(df.head())"
   ]
  },
  {
   "cell_type": "code",
   "execution_count": 29,
   "id": "9bb46078-3fbd-47bb-9def-c06c21254f9d",
   "metadata": {},
   "outputs": [
    {
     "data": {
      "text/plain": [
       "'donald trump wish american happy new year leave instead give shout enemy hater dishonest fake news medium former reality show star one job country rapidly grows stronger smarter want wish friend supporter enemy hater even dishonest fake news medium happy healthy new year president angry pant tweeted great year america country rapidly grows stronger smarter want wish friend supporter enemy hater even dishonest fake news medium happy healthy new year great year america donald j trump december trump tweet went welll expectwhat kind president sends new year greeting like despicable petty infantile gibberish trump lack decency even allow rise gutter long enough wish american citizen happy new year bishop talbert swan december one like calvin december impeachment would make great year america also accept regaining control congress miranda yaver december hear talk include many people hate wonder hate alan sandoval december us word hater new year wish marlene december say happy new year koren pollitt december trump new year eve tweet happy new year including many enemy fought lost badly know love donald j trump december nothing new trump yearstrump directed message enemy hater new year easter thanksgiving anniversary pictwittercomfpaekypa daniel dale december trump holiday tweet clearly presidentialhow long work hallmark becoming president steven goodine december always like difference last year filter breaking roy schulze december apart teenager us term hater wendy december fucking year old know december people voted hole thinking would change got power wrong yearold men change year olderphoto andrew burtongetty image'"
      ]
     },
     "execution_count": 29,
     "metadata": {},
     "output_type": "execute_result"
    }
   ],
   "source": [
    "df['text'][0] ## After preprosseing the data ##"
   ]
  },
  {
   "cell_type": "code",
   "execution_count": 34,
   "id": "4fa0adb2-38ba-4b78-956d-23fe642603ca",
   "metadata": {},
   "outputs": [],
   "source": [
    "from sklearn.model_selection import train_test_split\n",
    "\n",
    "# Create a series to store the labels\n",
    "y = df['class']\n",
    "\n",
    "# First, split into train+val and test\n",
    "X_temp, X_test, y_temp, y_test = train_test_split(df['text'], y, test_size=0.15, random_state=53)\n",
    "\n",
    "# Now split train+val into train and validation\n",
    "X_train, X_val, y_train, y_val = train_test_split(X_temp, y_temp, test_size=0.2, random_state=53)  # 20% of (train+val) for validation\n",
    "\n"
   ]
  },
  {
   "cell_type": "code",
   "execution_count": 44,
   "id": "7de9ed6e-acc7-485f-b64a-5bc7de82a9a5",
   "metadata": {},
   "outputs": [
    {
     "name": "stdout",
     "output_type": "stream",
     "text": [
      "['aa' 'aaplo' 'aaron' 'aarp' 'ab' 'aba' 'ababa' 'aback' 'abadi' 'abandon']\n"
     ]
    }
   ],
   "source": [
    "############################################\n",
    "# Import TfidfVectorizer\n",
    "from sklearn.feature_extraction.text import TfidfVectorizer\n",
    "\n",
    "# Initialize a TfidfVectorizer object: tfidf_vectorizer\n",
    "tfidf_vectorizer = TfidfVectorizer(stop_words='english',max_features=20000,max_df=0.7,min_df=10,dtype=np.float32)\n",
    "\n",
    "# Transform the training data: tfidf_train \n",
    "tfidf_train = tfidf_vectorizer.fit_transform(X_train)\n",
    "\n",
    "# Transform the validation data: tfidf_val \n",
    "tfidf_val = tfidf_vectorizer.transform(X_val)\n",
    "\n",
    "# Print the first 10 features\n",
    "print(tfidf_vectorizer.get_feature_names_out()[:10])\n"
   ]
  },
  {
   "cell_type": "code",
   "execution_count": null,
   "id": "1e11d826-018f-4427-981b-dea1e702281a",
   "metadata": {},
   "outputs": [],
   "source": [
    "print(tfidf_train[:10]) "
   ]
  },
  {
   "cell_type": "code",
   "execution_count": 50,
   "id": "58f174f5-f029-43bf-bdb2-d466b6e930b6",
   "metadata": {},
   "outputs": [
    {
     "name": "stdout",
     "output_type": "stream",
     "text": [
      "    aa  aaplo  aaron  aarp   ab  aba  ababa  aback  abadi  abandon  ...  zoe  \\\n",
      "0  0.0    0.0    0.0   0.0  0.0  0.0    0.0    0.0    0.0      0.0  ...  0.0   \n",
      "1  0.0    0.0    0.0   0.0  0.0  0.0    0.0    0.0    0.0      0.0  ...  0.0   \n",
      "2  0.0    0.0    0.0   0.0  0.0  0.0    0.0    0.0    0.0      0.0  ...  0.0   \n",
      "3  0.0    0.0    0.0   0.0  0.0  0.0    0.0    0.0    0.0      0.0  ...  0.0   \n",
      "4  0.0    0.0    0.0   0.0  0.0  0.0    0.0    0.0    0.0      0.0  ...  0.0   \n",
      "\n",
      "   zombie  zone  zoning  zoo  zoomph  zucker  zuckerberg  zuma  zurich  \n",
      "0     0.0   0.0     0.0  0.0     0.0     0.0         0.0   0.0     0.0  \n",
      "1     0.0   0.0     0.0  0.0     0.0     0.0         0.0   0.0     0.0  \n",
      "2     0.0   0.0     0.0  0.0     0.0     0.0         0.0   0.0     0.0  \n",
      "3     0.0   0.0     0.0  0.0     0.0     0.0         0.0   0.0     0.0  \n",
      "4     0.0   0.0     0.0  0.0     0.0     0.0         0.0   0.0     0.0  \n",
      "\n",
      "[5 rows x 20000 columns]\n"
     ]
    }
   ],
   "source": [
    "# Create the TfidfVectorizer DataFrame: tfidf_df\n",
    "\n",
    "tfidf_df = pd.DataFrame(tfidf_train.toarray(),columns=tfidf_vectorizer.get_feature_names_out())\n",
    "\n",
    "# Print the head of tfidf_df\n",
    "print(tfidf_df.head())"
   ]
  },
  {
   "cell_type": "code",
   "execution_count": 57,
   "id": "7b0d1318-71bf-4317-a74c-486202bd1777",
   "metadata": {},
   "outputs": [
    {
     "name": "stdout",
     "output_type": "stream",
     "text": [
      "0.932696084850072\n",
      "[[3709  250]\n",
      " [ 264 3414]]\n"
     ]
    }
   ],
   "source": [
    "# Import the necessary modules\n",
    "from sklearn.naive_bayes import MultinomialNB\n",
    "from sklearn import metrics\n",
    "# Create a Multinomial Naive Bayes classifier: nb_classifier\n",
    "nb_classifier = MultinomialNB()\n",
    "\n",
    "# Fit the classifier to the training data\n",
    "nb_classifier.fit(tfidf_train,y_train)\n",
    "\n",
    "# Create the predicted tags: pred\n",
    "pred_NB = nb_classifier.predict(tfidf_val)\n",
    "\n",
    "# Calculate the accuracy score: score\n",
    "score1 = metrics.accuracy_score(y_val, pred_NB)\n",
    "print(score1)\n",
    "\n",
    "# Calculate the confusion matrix: cm\n",
    "cm = metrics.confusion_matrix(y_val, pred_NB, labels=[0,1])\n",
    "print(cm)"
   ]
  },
  {
   "cell_type": "code",
   "execution_count": 69,
   "id": "20024e7c-f46b-4217-a8bd-71c80d7edd57",
   "metadata": {},
   "outputs": [
    {
     "name": "stdout",
     "output_type": "stream",
     "text": [
      "0.9820610187246301\n",
      "[[3883   76]\n",
      " [  61 3617]]\n"
     ]
    }
   ],
   "source": [
    "from sklearn.linear_model import LogisticRegression\n",
    "from sklearn import metrics\n",
    "\n",
    "# Instantiate a Logistic Regression classifier: lr_classifier\n",
    "lr_classifier = LogisticRegression(max_iter=1000)\n",
    "\n",
    "# Fit the classifier to the training data\n",
    "lr_classifier.fit(tfidf_train, y_train)\n",
    "\n",
    "# Create the predicted tags: pred\n",
    "pred_log = lr_classifier.predict(tfidf_val)\n",
    "\n",
    "# Calculate the accuracy score: score\n",
    "score2 = metrics.accuracy_score(y_val, pred_log)\n",
    "print(score2)\n",
    "\n",
    "# Calculate the confusion matrix: cm\n",
    "cm = metrics.confusion_matrix(y_val, pred_log, labels=[0, 1])\n",
    "print(cm)"
   ]
  },
  {
   "cell_type": "code",
   "execution_count": 72,
   "id": "761796be-304d-469c-91bb-708a9a9d16b5",
   "metadata": {},
   "outputs": [],
   "source": [
    "# Import DecisionTreeClassifier\n",
    "from sklearn.tree import DecisionTreeClassifier\n",
    "from sklearn.metrics import accuracy_score, confusion_matrix"
   ]
  },
  {
   "cell_type": "code",
   "execution_count": 75,
   "id": "ef9a6c8d-c259-4915-8466-0221c0585930",
   "metadata": {},
   "outputs": [
    {
     "name": "stdout",
     "output_type": "stream",
     "text": [
      "Decision Tree Accuracy (TfidfVectorizer): 0.995417048579285\n",
      "Confusion Matrix (Decision Tree - TFidfVectorizer):\n",
      "[[3948   11]\n",
      " [  24 3654]]\n"
     ]
    }
   ],
   "source": [
    "# Instantiate the Decision Tree Classifier\n",
    "dt_classifier = DecisionTreeClassifier(random_state=42)  # We tune max_depth, min_samples_split, etc.\n",
    "\n",
    "# Train the model using CountVectorizer transformed data\n",
    "dt_classifier.fit(tfidf_train, y_train)\n",
    "\n",
    "# Predict on the test set\n",
    "dt_pred = dt_classifier.predict(tfidf_val)\n",
    "\n",
    "# Evaluate the model\n",
    "dt_accuracy = accuracy_score(y_val, dt_pred)\n",
    "print(f\"Decision Tree Accuracy (TfidfVectorizer): {dt_accuracy}\")\n",
    "\n",
    "# Confusion Matrix\n",
    "dt_cm = confusion_matrix(y_val, dt_pred, labels=[0, 1])\n",
    "print(\"Confusion Matrix (Decision Tree - TFidfVectorizer):\")\n",
    "print(dt_cm)"
   ]
  },
  {
   "cell_type": "code",
   "execution_count": 84,
   "id": "126c1eff-d6f9-4ce7-aeb3-d755441509c2",
   "metadata": {},
   "outputs": [
    {
     "data": {
      "image/png": "[encoded data removed]",
      "text/plain": [
       "<Figure size 1200x800 with 1 Axes>"
      ]
     },
     "metadata": {},
     "output_type": "display_data"
    }
   ],
   "source": [
    "import matplotlib.pyplot as plt\n",
    "from sklearn.tree import plot_tree\n",
    "\n",
    "# Here I am visualizing the decision tree \n",
    "plt.figure(figsize=(12, 8))\n",
    "plot_tree(dt_classifier, filled=True, feature_names=tfidf_vectorizer.get_feature_names_out(), max_depth=2)\n",
    "plt.title(\"Decision Tree Visualization (Depth=2)\")\n",
    "plt.show()"
   ]
  },
  {
   "cell_type": "code",
   "execution_count": 87,
   "id": "d683d3db-9039-4e1f-86a2-b2d94fa88ace",
   "metadata": {},
   "outputs": [
    {
     "name": "stdout",
     "output_type": "stream",
     "text": [
      "reuters: 0.97400\n",
      "wire: 0.00228\n",
      "image: 0.00099\n",
      "st: 0.00094\n",
      "really: 0.00085\n",
      "actually: 0.00077\n",
      "nomination: 0.00060\n",
      "saidthe: 0.00057\n",
      "clintonthe: 0.00054\n",
      "saidvia: 0.00052\n",
      "lawless: 0.00052\n",
      "wiretv: 0.00052\n",
      "aka: 0.00052\n",
      "probably: 0.00043\n",
      "work: 0.00041\n",
      "zika: 0.00039\n",
      "wfb: 0.00039\n",
      "countriesthe: 0.00039\n",
      "syriathe: 0.00039\n",
      "yearthe: 0.00039\n"
     ]
    }
   ],
   "source": [
    "# Extract feature importance scores\n",
    "feature_importances = dt_classifier.feature_importances_\n",
    "feature_names = tfidf_vectorizer.get_feature_names_out()\n",
    "\n",
    "# Get the top 20 most important words\n",
    "important_indices = feature_importances.argsort()[-20:][::-1]\n",
    "important_words = [(feature_names[i], feature_importances[i]) for i in important_indices]\n",
    "\n",
    "# Display the most important words\n",
    "for word, importance in important_words:\n",
    "    print(f\"{word}: {importance:.5f}\")"
   ]
  },
  {
   "cell_type": "code",
   "execution_count": 91,
   "id": "83c955fb-dad2-4db3-916f-0f6773d23386",
   "metadata": {},
   "outputs": [
    {
     "name": "stdout",
     "output_type": "stream",
     "text": [
      "Random Forest Accuracy (TfidfVectorizer): 0.995417048579285\n",
      "Confusion Matrix (Random Forest - TFidfVectorizer):\n",
      "[[3942   17]\n",
      " [  18 3660]]\n"
     ]
    }
   ],
   "source": [
    "from sklearn.ensemble import RandomForestClassifier\n",
    "\n",
    "# I am using the Random Forest Classifier\n",
    "rf_classifier = RandomForestClassifier(random_state=42, n_estimators=100)  \n",
    "# We can tune n_estimators, max_depth, min_samples_split, etc.\n",
    "\n",
    "# Train the model using TF-IDF transformed data\n",
    "rf_classifier.fit(tfidf_train, y_train)\n",
    "\n",
    "# Predict on the validation set\n",
    "rf_pred = rf_classifier.predict(tfidf_val)\n",
    "\n",
    "# Evaluate the model\n",
    "rf_accuracy = accuracy_score(y_val, rf_pred)\n",
    "print(f\"Random Forest Accuracy (TfidfVectorizer): {rf_accuracy}\")\n",
    "\n",
    "# Confusion Matrix\n",
    "rf_cm = confusion_matrix(y_val, rf_pred, labels=[0, 1])\n",
    "print(\"Confusion Matrix (Random Forest - TFidfVectorizer):\")\n",
    "print(rf_cm)\n"
   ]
  },
  {
   "cell_type": "code",
   "execution_count": 93,
   "id": "194d8e41-93a8-4e29-ab61-8355c1d253cf",
   "metadata": {},
   "outputs": [
    {
     "name": "stdout",
     "output_type": "stream",
     "text": [
      "Support Vector Machine Accuracy (TfidfVectorizer): 0.9934529265418358\n",
      "Confusion Matrix (SVM - TFidfVectorizer):\n",
      "[[3930   29]\n",
      " [  21 3657]]\n"
     ]
    }
   ],
   "source": [
    "from sklearn.svm import SVC\n",
    "from sklearn.metrics import accuracy_score, confusion_matrix\n",
    "\n",
    "# Instantiate the Support Vector Classifier\n",
    "svm_classifier = SVC(random_state=42, kernel='linear')  \n",
    "# You can change kernel ('linear', 'rbf', etc.) and tune C, gamma, etc.\n",
    "\n",
    "# Train the model using TF-IDF transformed data\n",
    "svm_classifier.fit(tfidf_train, y_train)\n",
    "\n",
    "# Predict on the validation set\n",
    "svm_pred = svm_classifier.predict(tfidf_val)\n",
    "\n",
    "# Evaluate the model\n",
    "svm_accuracy = accuracy_score(y_val, svm_pred)\n",
    "print(f\"Support Vector Machine Accuracy (TfidfVectorizer): {svm_accuracy}\")\n",
    "\n",
    "# Confusion Matrix\n",
    "svm_cm = confusion_matrix(y_val, svm_pred, labels=[0, 1])\n",
    "print(\"Confusion Matrix (SVM - TFidfVectorizer):\")\n",
    "print(svm_cm)\n"
   ]
  },
  {
   "cell_type": "code",
   "execution_count": 95,
   "id": "3adafed7-1a5a-461a-aad0-c89a23f44f2a",
   "metadata": {},
   "outputs": [],
   "source": [
    "from sklearn.ensemble import VotingClassifier\n",
    "voting_clf=VotingClassifier(estimators=[('lr', LogisticRegression(random_state=42)),\n",
    "                                        ('rf', RandomForestClassifier(random_state=42))])"
   ]
  },
  {
   "cell_type": "code",
   "execution_count": 99,
   "id": "3e4e08be-82db-4f82-98bd-037659c9b039",
   "metadata": {},
   "outputs": [
    {
     "name": "stdout",
     "output_type": "stream",
     "text": [
      "Voting classifier Accuracy (TfidfVectorizer): 0.9900484483435904\n",
      "Confusion Matrix (vot - TFidfVectorizer):\n",
      "[[3950    9]\n",
      " [  67 3611]]\n"
     ]
    }
   ],
   "source": [
    "voting_clf.fit(tfidf_train,y_train)\n",
    "vot_pred= voting_clf.predict(tfidf_val)\n",
    "vot_accuracy = accuracy_score(y_val,vot_pred)\n",
    "print(f\"Voting classifier Accuracy (TfidfVectorizer): {vot_accuracy}\")\n",
    "\n",
    "# Confusion Matrix\n",
    "vot_cm = confusion_matrix(y_val, vot_pred, labels=[0, 1])\n",
    "print(\"Confusion Matrix (vot - TFidfVectorizer):\")\n",
    "print(vot_cm)"
   ]
  },
  {
   "cell_type": "code",
   "execution_count": 101,
   "id": "eacc0cfb-fddd-4a50-bff0-660ff2e8dd0e",
   "metadata": {},
   "outputs": [
    {
     "name": "stdout",
     "output_type": "stream",
     "text": [
      "Voting classifier Accuracy on test data (TfidfVectorizer): 0.9894627485900861\n",
      "Confusion Matrix (vot-test - TFidfVectorizer):\n",
      "[[3591   16]\n",
      " [  55 3076]]\n"
     ]
    }
   ],
   "source": [
    "tfidf_test = tfidf_vectorizer.transform(X_test)\n",
    "# Now test the data on the test dataset\n",
    "vot_pred_test= voting_clf.predict(tfidf_test)\n",
    "vot_accuracy_test = accuracy_score(y_test,vot_pred_test)\n",
    "print(f\"Voting classifier Accuracy on test data (TfidfVectorizer): {vot_accuracy_test}\")\n",
    "\n",
    "# Confusion Matrix\n",
    "vot_cm_test = confusion_matrix(y_test, vot_pred_test, labels=[0, 1])\n",
    "print(\"Confusion Matrix (vot-test - TFidfVectorizer):\")\n",
    "print(vot_cm_test)"
   ]
  },
  {
   "cell_type": "code",
   "execution_count": null,
   "id": "2ba690ad-96b7-4175-8589-d919f02449de",
   "metadata": {},
   "outputs": [],
   "source": []
  }
 ],
 "metadata": {
  "kernelspec": {
   "display_name": "Python [conda env:base] *",
   "language": "python",
   "name": "conda-base-py"
  },
  "language_info": {
   "codemirror_mode": {
    "name": "ipython",
    "version": 3
   },
   "file_extension": ".py",
   "mimetype": "text/x-python",
   "name": "python",
   "nbconvert_exporter": "python",
   "pygments_lexer": "ipython3",
   "version": "3.12.3"
  }
 },
 "nbformat": 4,
 "nbformat_minor": 5
}
